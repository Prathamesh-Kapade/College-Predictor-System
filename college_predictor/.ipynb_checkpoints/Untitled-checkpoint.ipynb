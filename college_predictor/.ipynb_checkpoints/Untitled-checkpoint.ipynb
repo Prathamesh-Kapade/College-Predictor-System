{
 "cells": [
  {
   "cell_type": "code",
   "execution_count": 2,
   "id": "72209fb9-1ff0-418c-b7d0-566a77cfb145",
   "metadata": {},
   "outputs": [],
   "source": [
    "import pandas as pd\n",
    "import sklearn\n",
    "data = pd.read_csv('C:\\\\Users\\\\Prathamesh\\\\Documents\\\\MHTCET_RANK.csv')\n"
   ]
  },
  {
   "cell_type": "code",
   "execution_count": 3,
   "id": "7e905fa8-a790-43e2-96b6-46db6aebed43",
   "metadata": {},
   "outputs": [],
   "source": [
    "# Now let's drop the 'score_type', 'max', and 'Max Rank' columns as requested.\n",
    "data_cleaned = data.drop(columns=['score_type', 'max', 'Max Rank'])"
   ]
  },
  {
   "cell_type": "code",
   "execution_count": 4,
   "id": "4547f9d1-6045-4fd9-8819-8b0404e97bbc",
   "metadata": {},
   "outputs": [
    {
     "data": {
      "text/html": [
       "<div>\n",
       "<style scoped>\n",
       "    .dataframe tbody tr th:only-of-type {\n",
       "        vertical-align: middle;\n",
       "    }\n",
       "\n",
       "    .dataframe tbody tr th {\n",
       "        vertical-align: top;\n",
       "    }\n",
       "\n",
       "    .dataframe thead th {\n",
       "        text-align: right;\n",
       "    }\n",
       "</style>\n",
       "<table border=\"1\" class=\"dataframe\">\n",
       "  <thead>\n",
       "    <tr style=\"text-align: right;\">\n",
       "      <th></th>\n",
       "      <th>college_name</th>\n",
       "      <th>seat_type</th>\n",
       "      <th>branch</th>\n",
       "      <th>min</th>\n",
       "      <th>Min Rank</th>\n",
       "    </tr>\n",
       "  </thead>\n",
       "  <tbody>\n",
       "    <tr>\n",
       "      <th>0</th>\n",
       "      <td>Veermata Jijabai Technological Institute(VJTI)...</td>\n",
       "      <td>OPEN</td>\n",
       "      <td>Computer Engineering</td>\n",
       "      <td>99.829843</td>\n",
       "      <td>509</td>\n",
       "    </tr>\n",
       "    <tr>\n",
       "      <th>1</th>\n",
       "      <td>Veermata Jijabai Technological Institute(VJTI)...</td>\n",
       "      <td>OPEN</td>\n",
       "      <td>Computer Engineering</td>\n",
       "      <td>99.817615</td>\n",
       "      <td>546</td>\n",
       "    </tr>\n",
       "    <tr>\n",
       "      <th>2</th>\n",
       "      <td>Veermata Jijabai Technological Institute(VJTI)...</td>\n",
       "      <td>OPEN</td>\n",
       "      <td>Information Technology</td>\n",
       "      <td>99.687278</td>\n",
       "      <td>937</td>\n",
       "    </tr>\n",
       "    <tr>\n",
       "      <th>3</th>\n",
       "      <td>Bhartiya Vidya Bhavan's Sardar Patel Institute...</td>\n",
       "      <td>OPEN</td>\n",
       "      <td>Computer Engineering</td>\n",
       "      <td>99.550679</td>\n",
       "      <td>1346</td>\n",
       "    </tr>\n",
       "    <tr>\n",
       "      <th>4</th>\n",
       "      <td>Veermata Jijabai Technological Institute(VJTI)...</td>\n",
       "      <td>OBC</td>\n",
       "      <td>Computer Engineering</td>\n",
       "      <td>99.591876</td>\n",
       "      <td>1223</td>\n",
       "    </tr>\n",
       "  </tbody>\n",
       "</table>\n",
       "</div>"
      ],
      "text/plain": [
       "                                        college_name seat_type  \\\n",
       "0  Veermata Jijabai Technological Institute(VJTI)...      OPEN   \n",
       "1  Veermata Jijabai Technological Institute(VJTI)...      OPEN   \n",
       "2  Veermata Jijabai Technological Institute(VJTI)...      OPEN   \n",
       "3  Bhartiya Vidya Bhavan's Sardar Patel Institute...      OPEN   \n",
       "4  Veermata Jijabai Technological Institute(VJTI)...       OBC   \n",
       "\n",
       "                   branch        min  Min Rank  \n",
       "0    Computer Engineering  99.829843       509  \n",
       "1    Computer Engineering  99.817615       546  \n",
       "2  Information Technology  99.687278       937  \n",
       "3    Computer Engineering  99.550679      1346  \n",
       "4    Computer Engineering  99.591876      1223  "
      ]
     },
     "execution_count": 4,
     "metadata": {},
     "output_type": "execute_result"
    }
   ],
   "source": [
    "# Display the cleaned dataset's first few rows\n",
    "data_cleaned.head()"
   ]
  },
  {
   "cell_type": "code",
   "execution_count": 5,
   "id": "a9cc0f0d-0394-4752-b1e0-b0e9b2e18d72",
   "metadata": {},
   "outputs": [],
   "source": [
    "from sklearn.model_selection import train_test_split\n",
    "from sklearn.preprocessing import OneHotEncoder\n",
    "from sklearn.ensemble import RandomForestClassifier\n",
    "\n",
    "X = data_cleaned[['seat_type', 'branch', 'min', 'Min Rank']]\n",
    "y = data_cleaned['college_name']\n",
    "X_encoded = pd.get_dummies(X, columns=['seat_type', 'branch'])\n",
    "\n",
    "X_train, X_test, y_train, y_test = train_test_split(X_encoded, y, test_size=0.2, random_state=42)"
   ]
  },
  {
   "cell_type": "code",
   "execution_count": 6,
   "id": "01787bb5-7309-4edd-a259-c48c6fa3bc21",
   "metadata": {},
   "outputs": [],
   "source": [
    "X_train\n",
    "model = RandomForestClassifier(random_state=42)\n",
    "model.fit(X_train, y_train)\n",
    "accuracy = model.score(X_test, y_test)\n",
    "accuracy\n",
    "input_data = {\n",
    "    'seat_type': ['OPEN'], \n",
    "    'branch': ['Computer Engineering'], \n",
    "    'min': [2],  \n",
    "    'Min Rank': [12455]  \n",
    "}"
   ]
  },
  {
   "cell_type": "code",
   "execution_count": 7,
   "id": "a0f0bcfe-385a-4050-891c-8fced24455fe",
   "metadata": {},
   "outputs": [],
   "source": [
    "input_df = pd.DataFrame(input_data)\n",
    "\n",
    "input_encoded = pd.get_dummies(input_df, columns=['seat_type', 'branch'])\n",
    "\n",
    "for col in model.feature_names_in_:\n",
    "    if col not in input_encoded.columns:\n",
    "        input_encoded[col] = 0\n",
    "input_encoded = input_encoded[model.feature_names_in_] \n"
   ]
  },
  {
   "cell_type": "code",
   "execution_count": null,
   "id": "a1762ac3-688d-4935-9164-f77160b453de",
   "metadata": {},
   "outputs": [],
   "source": []
  }
 ],
 "metadata": {
  "kernelspec": {
   "display_name": "Python 3 (ipykernel)",
   "language": "python",
   "name": "python3"
  },
  "language_info": {
   "codemirror_mode": {
    "name": "ipython",
    "version": 3
   },
   "file_extension": ".py",
   "mimetype": "text/x-python",
   "name": "python",
   "nbconvert_exporter": "python",
   "pygments_lexer": "ipython3",
   "version": "3.12.5"
  }
 },
 "nbformat": 4,
 "nbformat_minor": 5
}
